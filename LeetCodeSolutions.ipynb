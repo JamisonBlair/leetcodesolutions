{
  "nbformat": 4,
  "nbformat_minor": 0,
  "metadata": {
    "colab": {
      "name": "LeetCodeSolutions.ipynb",
      "provenance": [],
      "collapsed_sections": [],
      "authorship_tag": "ABX9TyPBSQ/ZmjP1sJPv6RG+wC/S",
      "include_colab_link": true
    },
    "kernelspec": {
      "name": "python3",
      "display_name": "Python 3"
    }
  },
  "cells": [
    {
      "cell_type": "markdown",
      "metadata": {
        "id": "view-in-github",
        "colab_type": "text"
      },
      "source": [
        "<a href=\"https://colab.research.google.com/github/JamisonBlair/leetcodesolutions/blob/main/LeetCodeSolutions.ipynb\" target=\"_parent\"><img src=\"https://colab.research.google.com/assets/colab-badge.svg\" alt=\"Open In Colab\"/></a>"
      ]
    },
    {
      "cell_type": "markdown",
      "metadata": {
        "id": "nSsaHxkfNGC2"
      },
      "source": [
        "## Leet Code Solutions"
      ]
    },
    {
      "cell_type": "markdown",
      "metadata": {
        "id": "kVtRhcLyQjNn"
      },
      "source": [
        "1. Two Sum. (LC $\\#$ 1)\n",
        "\n",
        "**Description**\n",
        "\n",
        "Given an array of integers nums and an integer target, return indices of the two numbers such that they add up to target.\n",
        "\n",
        "You may assume that each input would have exactly one solution, and you may not use the same element twice.\n",
        "\n",
        "You can return the answer in any order."
      ]
    },
    {
      "cell_type": "markdown",
      "metadata": {
        "id": "rIMFl9ejQ9vR"
      },
      "source": [
        "*Solution:*\n",
        "\n",
        "We know we are guaranteed a solution. The idea is as follows: take an element from the list, call it $x$. Then we know the other element we need is $y =$ target $-x$. Check if $y$ is in nums, if it is, return the index of $x$ and $y$ in nums. To ensure we don't use the same index, we remove x from the list (this also has the benefit of making nums smaller as we move forward, so checking $y$ in nums gets slightly fast each iteration). To track the proper index, we have a simple token $i$ to keep track of what our acual index is.\n",
        "\n",
        "**Insights:** 40ms (96th percentile), 14.3mb (95th percentile)"
      ]
    },
    {
      "cell_type": "code",
      "metadata": {
        "id": "fyCVDldxNFHJ"
      },
      "source": [
        "def twoSum(nums, target):\n",
        "    #initialize the index tracker\n",
        "    i = 0\n",
        "    num_copy = nums.copy()\n",
        "    #start a loop until we find a solution\n",
        "    while num_copy:\n",
        "        #get first element of nums\n",
        "        x = num_copy.pop(0)\n",
        "\n",
        "        #get element needed to complete the sum\n",
        "        y = target - x\n",
        "\n",
        "        #check if y is in nums and return the proper inices of x and y if it is\n",
        "        if y in num_copy:\n",
        "            return [i, num_copy.index(y)+i+1]\n",
        "\n",
        "        #if the loop continues, update i\n",
        "        i+=1"
      ],
      "execution_count": null,
      "outputs": []
    },
    {
      "cell_type": "code",
      "metadata": {
        "colab": {
          "base_uri": "https://localhost:8080/"
        },
        "id": "vz96aTffVoug",
        "outputId": "3808ca12-6f95-4a10-8061-51bb0d7b9c18"
      },
      "source": [
        "#Test\n",
        "nums = [2,4,61,2,6,-7,32,5]\n",
        "target = -2\n",
        "twoSum(nums, target)"
      ],
      "execution_count": null,
      "outputs": [
        {
          "output_type": "execute_result",
          "data": {
            "text/plain": [
              "[5, 7]"
            ]
          },
          "metadata": {
            "tags": []
          },
          "execution_count": 19
        }
      ]
    },
    {
      "cell_type": "markdown",
      "metadata": {
        "id": "AlYB8Ov3Tf72"
      },
      "source": [
        "### 2. Spiral Matrix (LC $\\#$ 54)\n",
        "\n",
        "Given an m x n matrix, return all elements of the matrix in spiral order.\n",
        "\n"
      ]
    },
    {
      "cell_type": "markdown",
      "metadata": {
        "id": "utQqjm5UWuBE"
      },
      "source": [
        "*Solution*\n",
        "\n",
        "Create a while loop that peels of and saves the top of bottom row/col.\n",
        "\n",
        "Insights: 24ms (94 Percentile) 14.1mb (57 percentile)"
      ]
    },
    {
      "cell_type": "code",
      "metadata": {
        "id": "9ci0nrAz_TtI"
      },
      "source": [
        "def spiralOrder(matrix):\n",
        "    #remove and save the top row of the matrix\n",
        "    top_row = matrix.pop(0)\n",
        "\n",
        "    #initialize the spiral as the top row\n",
        "    spiral = top_row\n",
        "    \n",
        "    #start a loop that will terminate (according to the breaks) once the matrix is empty\n",
        "    #the loop is in four stages, one for each side of the matrix.\n",
        "    #the idea is to compute the matrix's transpose, pop and save either the top or bottom row.\n",
        "    #depending on the orientation, add to the spiral the row/col or its reverse.\n",
        "    while True:\n",
        "\n",
        "        if matrix == []:\n",
        "            break\n",
        "        matrix = [[matrix[j][i] for j in range(len(matrix))] for i in range(len(matrix[0]))]\n",
        "        rside_col = matrix.pop()\n",
        "        spiral += rside_col\n",
        "        \n",
        "        if matrix == []:\n",
        "            break\n",
        "        matrix = [[matrix[j][i] for j in range(len(matrix))] for i in range(len(matrix[0]))]\n",
        "        bottom_row = matrix.pop()\n",
        "        spiral += bottom_row[::-1]\n",
        "        \n",
        "        if matrix == []:\n",
        "            break\n",
        "        matrix = [[matrix[j][i] for j in range(len(matrix))] for i in range(len(matrix[0]))]\n",
        "        lside_col = matrix.pop(0)\n",
        "        spiral += lside_col[::-1]\n",
        "        \n",
        "        if matrix == []:\n",
        "            break\n",
        "        matrix = [[matrix[j][i] for j in range(len(matrix))] for i in range(len(matrix[0]))]\n",
        "        top_row = matrix.pop(0)\n",
        "        spiral += top_row\n",
        "        \n",
        "    #return the final spiral\n",
        "    return spiral"
      ],
      "execution_count": null,
      "outputs": []
    },
    {
      "cell_type": "code",
      "metadata": {
        "colab": {
          "base_uri": "https://localhost:8080/"
        },
        "id": "kd4xebrWVFgH",
        "outputId": "4df99cfc-4e98-424e-df28-59131ec25e99"
      },
      "source": [
        "#Test\n",
        "import random\n",
        "n = random.randint(2,5)\n",
        "m = random.randint(2,5)\n",
        "matrix = [[random.randint(0,9) for j in range(n)] for i in range(m)]\n",
        "matrix"
      ],
      "execution_count": null,
      "outputs": [
        {
          "output_type": "execute_result",
          "data": {
            "text/plain": [
              "[[9, 2, 0, 2], [5, 2, 2, 0], [6, 6, 4, 3]]"
            ]
          },
          "metadata": {
            "tags": []
          },
          "execution_count": 19
        }
      ]
    },
    {
      "cell_type": "code",
      "metadata": {
        "colab": {
          "base_uri": "https://localhost:8080/"
        },
        "id": "rryKw10PV8qE",
        "outputId": "f3e5a5b8-de75-4393-b4b9-94f22a0da257"
      },
      "source": [
        "spiralOrder(matrix)"
      ],
      "execution_count": null,
      "outputs": [
        {
          "output_type": "execute_result",
          "data": {
            "text/plain": [
              "[9, 2, 0, 2, 0, 3, 4, 6, 6, 5, 2, 2]"
            ]
          },
          "metadata": {
            "tags": []
          },
          "execution_count": 20
        }
      ]
    },
    {
      "cell_type": "markdown",
      "metadata": {
        "id": "mycKprLdnxlu"
      },
      "source": [
        "###3. N-Queens (I and II) (LC $\\#$ $51$ and $52$)\n",
        "\n",
        "The n-queens puzzle is the problem of placing n queens on an n x n chessboard such that no two queens attack each other.\n",
        "\n",
        "Given an integer n, return all distinct solutions to the n-queens puzzle.\n",
        "\n",
        "Each solution contains a distinct board configuration of the n-queens' placement, where 'Q' and '.' both indicate a queen and an empty space, respectively and ascending list order in the solution corresponds to top-down board order.\n",
        "\n",
        "The II variant of this question is to return the number of distinct solutions.\n",
        "\n",
        "(Shout out to anyone who played the puzzle/horror point-and-click adventrue game **The 7th Guest**. The 8-Queens puzzle was in that game and I was fascinated with it.)"
      ]
    },
    {
      "cell_type": "markdown",
      "metadata": {
        "id": "OpN2Un1qpBsX"
      },
      "source": [
        "*Solution*\n",
        "\n",
        "The following implementation of the solution is not particularly fast or memory saving but it is a good example of dynamic programming. The idea is to build the possible boards row by row. \n",
        "\n",
        "To do this, first observe that if $B$ is a solution, then each row and each column of $B$ has exactly one queen in it. If we remove a row (or a col.) than the resulting board is a solution to a simple problem ($N-1$ Queens on a smaller rectangular board). For example, suppose $n=8$ and $B$ is a solution to the $8$-Queen problem. If $r$ is the top row in $B$ and $B'$ is the board we get from removing $r$ from $B$, then $B'$ is a solution to the $7$-queen variant of the question on a $7 \\times 8$ board. So if we want to solve the $8$-Queens on the $8\\times 8$ board, we start with the $1$-Queen on $1\\times 8$ board (i.e. all rows with a single queen), then tackle the $2$-queens on an $2\\times 8$ board, etc.\n",
        "\n",
        "Again, we know the base level (all possible rows with a single queen). The inductive step requires that we be able to check if we can add a row to (the top of) of an existing solution to a rectangular board. This is precisely what our helper function checkNewRow does. In the program, we start with the base level ($1\\times n$ boards) and use checkNewRow to find all possible $2\\times n$ boards, save them, and repeat the process until we have solutions to the $n\\times n$ boards.\n",
        "\n",
        "For the II variant, you can simply take the length of the list given at the end."
      ]
    },
    {
      "cell_type": "code",
      "metadata": {
        "id": "_wM8XJ7TnxOU"
      },
      "source": [
        "def solveNQueens(n, II=False):\n",
        "\n",
        "    # Define a helper function that can compute if a certain (1 x n) row can be added\n",
        "    #to an existing (m x n) board. It returns True if it can and False if it can't \n",
        "    def checkNewRow(previous_board, new_row):\n",
        "        ind = new_row.index('Q')\n",
        "        i = 1\n",
        "        for row in previous_board:\n",
        "            prev_Q = row.index('Q')\n",
        "            if prev_Q in {ind-i,ind,ind+i}:\n",
        "                return False\n",
        "            i += 1\n",
        "        return True\n",
        "    \n",
        "    # Get all the valid rows\n",
        "    s = '.'*(n-1) + 'Q'\n",
        "    rows = [s[i:]+s[:i] for i in range(len(s))]\n",
        "\n",
        "    # Initialize the 1 x n solutions\n",
        "    current_boards = [[row] for row in rows]\n",
        "    \n",
        "    # Start token to keep track of the number of iterations for the while loop (need n-1)\n",
        "    i=0\n",
        "\n",
        "    # Build the boards until you have solutions to the n x n problem\n",
        "    while i < n-1:\n",
        "\n",
        "        # At each iteration, initialize a tank to place all the possible (i+2) x n solutions\n",
        "        board_tank = []\n",
        "\n",
        "        # Iterate over the possible rows and the solutions from the (i+1) x n solutions\n",
        "        for row in rows:\n",
        "            for board in current_boards:\n",
        "                \n",
        "                # Check if the board and row combo is compatable. If it is, add it to the board_tank\n",
        "                if checkNewRow(board, row):\n",
        "                    new_board = [row] + board\n",
        "                    board_tank.append(new_board)\n",
        "\n",
        "        # Make the (i+2) x n solutions the current solutions\n",
        "        current_boards = board_tank\n",
        "\n",
        "        # Track the iteration\n",
        "        i+=1\n",
        "    \n",
        "    #current_boards will now be a list of all solutions. Return this.    \n",
        "    #If II == True, only return the length of current_boards.\n",
        "    if II == True:\n",
        "      return len(current_boards)\n",
        "    else:\n",
        "      return current_boards"
      ],
      "execution_count": null,
      "outputs": []
    },
    {
      "cell_type": "code",
      "metadata": {
        "colab": {
          "base_uri": "https://localhost:8080/"
        },
        "id": "wXefxFDixKfI",
        "outputId": "ccc288f0-82b0-4690-f905-e375e07d152d"
      },
      "source": [
        "#Test\n",
        "n = 9\n",
        "solveNQueens(n, II=True)"
      ],
      "execution_count": null,
      "outputs": [
        {
          "output_type": "execute_result",
          "data": {
            "text/plain": [
              "352"
            ]
          },
          "metadata": {
            "tags": []
          },
          "execution_count": 15
        }
      ]
    }
  ]
}